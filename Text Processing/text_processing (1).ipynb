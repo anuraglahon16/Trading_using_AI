{
 "cells": [
  {
   "cell_type": "markdown",
   "metadata": {},
   "source": [
    "# Text Processing\n",
    "\n",
    "## Capturing Text Data\n",
    "\n",
    "### Plain Text"
   ]
  },
  {
   "cell_type": "code",
   "execution_count": 1,
   "metadata": {},
   "outputs": [
    {
     "name": "stdout",
     "output_type": "stream",
     "text": [
      "Hieroglyphic writing dates from c. 3000 BC, and is composed of hundreds of symbols. A hieroglyph can represent a word, a sound, or a silent determinative; and the same symbol can serve different purposes in different contexts. Hieroglyphs were a formal script, used on stone monuments and in tombs, that could be as detailed as individual works of art.\n",
      "\n"
     ]
    }
   ],
   "source": [
    "import os\n",
    "\n",
    "# Read in a plain text file\n",
    "with open(os.path.join(\"data\", \"hieroglyph.txt\"), \"r\") as f:\n",
    "    text = f.read()\n",
    "    print(text)"
   ]
  },
  {
   "cell_type": "markdown",
   "metadata": {},
   "source": [
    "### Tabular Data"
   ]
  },
  {
   "cell_type": "code",
   "execution_count": 2,
   "metadata": {
    "scrolled": true
   },
   "outputs": [
    {
     "data": {
      "text/html": [
       "<div>\n",
       "<style scoped>\n",
       "    .dataframe tbody tr th:only-of-type {\n",
       "        vertical-align: middle;\n",
       "    }\n",
       "\n",
       "    .dataframe tbody tr th {\n",
       "        vertical-align: top;\n",
       "    }\n",
       "\n",
       "    .dataframe thead th {\n",
       "        text-align: right;\n",
       "    }\n",
       "</style>\n",
       "<table border=\"1\" class=\"dataframe\">\n",
       "  <thead>\n",
       "    <tr style=\"text-align: right;\">\n",
       "      <th></th>\n",
       "      <th>publisher</th>\n",
       "      <th>title</th>\n",
       "    </tr>\n",
       "  </thead>\n",
       "  <tbody>\n",
       "    <tr>\n",
       "      <th>0</th>\n",
       "      <td>Livemint</td>\n",
       "      <td>fed's charles plosser sees high bar for change...</td>\n",
       "    </tr>\n",
       "    <tr>\n",
       "      <th>1</th>\n",
       "      <td>IFA Magazine</td>\n",
       "      <td>us open: stocks fall after fed official hints ...</td>\n",
       "    </tr>\n",
       "    <tr>\n",
       "      <th>2</th>\n",
       "      <td>IFA Magazine</td>\n",
       "      <td>fed risks falling 'behind the curve', charles ...</td>\n",
       "    </tr>\n",
       "    <tr>\n",
       "      <th>3</th>\n",
       "      <td>Moneynews</td>\n",
       "      <td>fed's plosser: nasty weather has curbed job gr...</td>\n",
       "    </tr>\n",
       "    <tr>\n",
       "      <th>4</th>\n",
       "      <td>NASDAQ</td>\n",
       "      <td>plosser: fed may have to accelerate tapering pace</td>\n",
       "    </tr>\n",
       "  </tbody>\n",
       "</table>\n",
       "</div>"
      ],
      "text/plain": [
       "      publisher                                              title\n",
       "0      Livemint  fed's charles plosser sees high bar for change...\n",
       "1  IFA Magazine  us open: stocks fall after fed official hints ...\n",
       "2  IFA Magazine  fed risks falling 'behind the curve', charles ...\n",
       "3     Moneynews  fed's plosser: nasty weather has curbed job gr...\n",
       "4        NASDAQ  plosser: fed may have to accelerate tapering pace"
      ]
     },
     "execution_count": 2,
     "metadata": {},
     "output_type": "execute_result"
    }
   ],
   "source": [
    "import pandas as pd\n",
    "\n",
    "# Extract text column from a dataframe\n",
    "df = pd.read_csv(os.path.join(\"data\", \"news.csv\"))\n",
    "df.head()[['publisher', 'title']]\n",
    "\n",
    "# Convert text column to lowercase\n",
    "df['title'] = df['title'].str.lower()\n",
    "df.head()[['publisher', 'title']]"
   ]
  },
  {
   "cell_type": "markdown",
   "metadata": {},
   "source": [
    "### Online Resource"
   ]
  },
  {
   "cell_type": "code",
   "execution_count": 3,
   "metadata": {
    "scrolled": true
   },
   "outputs": [
    {
     "name": "stdout",
     "output_type": "stream",
     "text": [
      "{\n",
      "    \"success\": {\n",
      "        \"total\": 1\n",
      "    },\n",
      "    \"contents\": {\n",
      "        \"quotes\": [\n",
      "            {\n",
      "                \"quote\": \"We don't have to do all of it alone. We were never meant to.\",\n",
      "                \"length\": \"60\",\n",
      "                \"author\": \"Brene Brown\",\n",
      "                \"tags\": [\n",
      "                    \"inspire\",\n",
      "                    \"teamwork\"\n",
      "                ],\n",
      "                \"category\": \"inspire\",\n",
      "                \"language\": \"en\",\n",
      "                \"date\": \"2021-03-10\",\n",
      "                \"permalink\": \"https://theysaidso.com/quote/brene-brown-we-dont-have-to-do-all-of-it-alone-we-were-never-meant-to\",\n",
      "                \"id\": \"DhdoxV10LeG_3pD82xMmEgeF\",\n",
      "                \"background\": \"https://theysaidso.com/img/qod/qod-inspire.jpg\",\n",
      "                \"title\": \"Inspiring Quote of the day\"\n",
      "            }\n",
      "        ]\n",
      "    },\n",
      "    \"baseurl\": \"https://theysaidso.com\",\n",
      "    \"copyright\": {\n",
      "        \"year\": 2023,\n",
      "        \"url\": \"https://theysaidso.com\"\n",
      "    }\n",
      "}\n",
      "We don't have to do all of it alone. We were never meant to. \n",
      "-- Brene Brown\n"
     ]
    }
   ],
   "source": [
    "import requests\n",
    "import json\n",
    "\n",
    "# Fetch data from a REST API\n",
    "r = requests.get(\n",
    "    \"https://quotes.rest/qod.json\")\n",
    "res = r.json()\n",
    "print(json.dumps(res, indent=4))\n",
    "\n",
    "# Extract relevant object and field\n",
    "q = res[\"contents\"][\"quotes\"][0]\n",
    "print(q[\"quote\"], \"\\n--\", q[\"author\"])"
   ]
  },
  {
   "cell_type": "markdown",
   "metadata": {},
   "source": [
    "## Cleaning"
   ]
  },
  {
   "cell_type": "code",
   "execution_count": 4,
   "metadata": {
    "scrolled": true
   },
   "outputs": [
    {
     "name": "stdout",
     "output_type": "stream",
     "text": [
      "<html lang=\"en\" op=\"news\"><head><meta name=\"referrer\" content=\"origin\"><meta name=\"viewport\" content=\"width=device-width, initial-scale=1.0\"><link rel=\"stylesheet\" type=\"text/css\" href=\"news.css?vCXF3xkDq4MUjbSOE95q\">\n",
      "        <link rel=\"shortcut icon\" href=\"favicon.ico\">\n",
      "          <link rel=\"alternate\" type=\"application/rss+xml\" title=\"RSS\" href=\"rss\">\n",
      "        <title>Hacker News</title></head><body><center><table id=\"hnmain\" border=\"0\" cellpadding=\"0\" cellspacing=\"0\" width=\"85%\" bgcolor=\"#f6f6ef\">\n",
      "        <tr><td bgcolor=\"#ff6600\"><table border=\"0\" cellpadding=\"0\" cellspacing=\"0\" width=\"100%\" style=\"padding:2px\"><tr><td style=\"width:18px;padding-right:4px\"><a href=\"https://news.ycombinator.com\"><img src=\"y18.gif\" width=\"18\" height=\"18\" style=\"border:1px white solid;\"></a></td>\n",
      "                  <td style=\"line-height:12pt; height:10px;\"><span class=\"pagetop\"><b class=\"hnname\"><a href=\"news\">Hacker News</a></b>\n",
      "              <a href=\"newest\">new</a> | <a href=\"front\">past</a> | <a href=\"newcomments\">comments</a> | <a href=\"ask\">ask</a> | <a href=\"show\">show</a> | <a href=\"jobs\">jobs</a> | <a href=\"submit\">submit</a>            </span></td><td style=\"text-align:right;padding-right:4px;\"><span class=\"pagetop\">\n",
      "                              <a href=\"login?goto=news\">login</a>\n",
      "                          </span></td>\n",
      "              </tr></table></td></tr>\n",
      "<tr id=\"pagespace\" title=\"\" style=\"height:10px\"></tr><tr><td><table border=\"0\" cellpadding=\"0\" cellspacing=\"0\" class=\"itemlist\">\n",
      "              <tr class='athing' id='26410135'>\n",
      "      <td align=\"right\" valign=\"top\" class=\"title\"><span class=\"rank\">1.</span></td>      <td valign=\"top\" class=\"votelinks\"><center><a id='up_26410135' href='vote?id=26410135&amp;how=up&amp;goto=news'><div class='votearrow' title='upvote'></div></a></center></td><td class=\"title\"><a href=\"https://netherlandsnewslive.com/inventor-of-cassette-tape-lou-ottens-passed-away-financial/107722/\" class=\"storylink\">Lou Ottens, inventor of cassette tape, has died</a><span class=\"sitebit comhead\"> (<a href=\"from?site=netherlandsnewslive.com\"><span class=\"sitestr\">netherlandsnewslive.com</span></a>)</span></td></tr><tr><td colspan=\"2\"></td><td class=\"subtext\">\n",
      "        <span class=\"score\" id=\"score_26410135\">251 points</span> by <a href=\"user?id=Anon84\" class=\"hnuser\">Anon84</a> <span class=\"age\"><a href=\"item?id=26410135\">5 hours ago</a></span> <span id=\"unv_26410135\"></span> | <a href=\"hide?id=26410135&amp;goto=news\">hide</a> | <a href=\"item?id=26410135\">85&nbsp;comments</a>              </td></tr>\n",
      "      <tr class=\"spacer\" style=\"height:5px\"></tr>\n",
      "                <tr class='athing' id='26412624'>\n",
      "      <td align=\"right\" valign=\"top\" class=\"title\"><span class=\"rank\">2.</span></td>      <td valign=\"top\" class=\"votelinks\"><center><a id='up_26412624' href='vote?id=26412624&amp;how=up&amp;goto=news'><div class='votearrow' title='upvote'></div></a></center></td><td class=\"title\"><a href=\"item?id=26412624\" class=\"storylink\">Launch HN: Remora (YC W21) – Carbon capture for semi trucks</a></td></tr><tr><td colspan=\"2\"></td><td class=\"subtext\">\n",
      "        <span class=\"score\" id=\"score_26412624\">41 points</span> by <a href=\"user?id=paulgross\" class=\"hnuser\">paulgross</a> <span class=\"age\"><a href=\"item?id=26412624\">1 hour ago</a></span> <span id=\"unv_26412624\"></span> | <a href=\"hide?id=26412624&amp;goto=news\">hide</a> | <a href=\"item?id=26412624\">20&nbsp;comments</a>              </td></tr>\n",
      "      <tr class=\"spacer\" style=\"height:5px\"></tr>\n",
      "                <tr class='athing' id='26411908'>\n",
      "      <td align=\"right\" valign=\"top\" class=\"title\"><span class=\"rank\">3.</span></td>      <td valign=\"top\" class=\"votelinks\"><center><a id='up_26411908' href='vote?id=26411908&amp;how=up&amp;goto=news'><div class='votearrow' title='upvote'></div></a></center></td><td class=\"title\"><a href=\"http://maizure.org/projects/decoded-gnu-coreutils/\" class=\"storylink\">Decoded GNU coreutils: Exploring the design of GNU utilities</a><span class=\"sitebit comhead\"> (<a href=\"from?site=maizure.org\"><span class=\"sitestr\">maizure.org</span></a>)</span></td></tr><tr><td colspan=\"2\"></td><td class=\"subtext\">\n",
      "        <span class=\"score\" id=\"score_26411908\">32 points</span> by <a href=\"user?id=pcr910303\" class=\"hnuser\">pcr910303</a> <span class=\"age\"><a href=\"item?id=26411908\">2 hours ago</a></span> <span id=\"unv_26411908\"></span> | <a href=\"hide?id=26411908&amp;goto=news\">hide</a> | <a href=\"item?id=26411908\">2&nbsp;comments</a>              </td></tr>\n",
      "      <tr class=\"spacer\" style=\"height:5px\"></tr>\n",
      "                <tr class='athing' id='26407323'>\n",
      "      <td align=\"right\" valign=\"top\" class=\"title\"><span class=\"rank\">4.</span></td>      <td valign=\"top\" class=\"votelinks\"><center><a id='up_26407323' href='vote?id=26407323&amp;how=up&amp;goto=news'><div class='votearrow' title='upvote'></div></a></center></td><td class=\"title\"><a href=\"http://travaux.ovh.net/?do=details&amp;id=49471&amp;\" class=\"storylink\">Fire declared in OVH SBG2 datacentre building</a><span class=\"sitebit comhead\"> (<a href=\"from?site=ovh.net\"><span class=\"sitestr\">ovh.net</span></a>)</span></td></tr><tr><td colspan=\"2\"></td><td class=\"subtext\">\n",
      "        <span class=\"score\" id=\"score_26407323\">949 points</span> by <a href=\"user?id=finniananderson\" class=\"hnuser\">finniananderson</a> <span class=\"age\"><a href=\"item?id=26407323\">14 hours ago</a></span> <span id=\"unv_26407323\"></span> | <a href=\"hide?id=26407323&amp;goto=news\">hide</a> | <a href=\"item?id=26407323\">468&nbsp;comments</a>              </td></tr>\n",
      "      <tr class=\"spacer\" style=\"height:5px\"></tr>\n",
      "                <tr class='athing' id='26409820'>\n",
      "      <td align=\"right\" valign=\"top\" class=\"title\"><span class=\"rank\">5.</span></td>      <td valign=\"top\" class=\"votelinks\"><center><a id='up_26409820' href='vote?id=26409820&amp;how=up&amp;goto=news'><div class='votearrow' title='upvote'></div></a></center></td><td class=\"title\"><a href=\"https://github.com/authelia/authelia\" class=\"storylink\">Authelia is an open-source authentication/authorization server with 2FA/SSO</a><span class=\"sitebit comhead\"> (<a href=\"from?site=github.com/authelia\"><span class=\"sitestr\">github.com/authelia</span></a>)</span></td></tr><tr><td colspan=\"2\"></td><td class=\"subtext\">\n",
      "        <span class=\"score\" id=\"score_26409820\">171 points</span> by <a href=\"user?id=thunderbong\" class=\"hnuser\">thunderbong</a> <span class=\"age\"><a href=\"item?id=26409820\">6 hours ago</a></span> <span id=\"unv_26409820\"></span> | <a href=\"hide?id=26409820&amp;goto=news\">hide</a> | <a href=\"item?id=26409820\">60&nbsp;comments</a>              </td></tr>\n",
      "      <tr class=\"spacer\" style=\"height:5px\"></tr>\n",
      "                <tr class='athing' id='26408181'>\n",
      "      <td align=\"right\" valign=\"top\" class=\"title\"><span class=\"rank\">6.</span></td>      <td valign=\"top\" class=\"votelinks\"><center><a id='up_26408181' href='vote?id=26408181&amp;how=up&amp;goto=news'><div class='votearrow' title='upvote'></div></a></center></td><td class=\"title\"><a href=\"https://www.facebook.com/groups/CFprogrammers/permalink/10158154545285036/\" class=\"storylink\">We created a fake language to root out resume liars</a><span class=\"sitebit comhead\"> (<a href=\"from?site=facebook.com\"><span class=\"sitestr\">facebook.com</span></a>)</span></td></tr><tr><td colspan=\"2\"></td><td class=\"subtext\">\n",
      "        <span class=\"score\" id=\"score_26408181\">379 points</span> by <a href=\"user?id=rmason\" class=\"hnuser\">rmason</a> <span class=\"age\"><a href=\"item?id=26408181\">11 hours ago</a></span> <span id=\"unv_26408181\"></span> | <a href=\"hide?id=26408181&amp;goto=news\">hide</a> | <a href=\"item?id=26408181\">503&nbsp;comments</a>              </td></tr>\n",
      "      <tr class=\"spacer\" style=\"height:5px\"></tr>\n",
      "                <tr class='athing' id='26413404'>\n",
      "      <td align=\"right\" valign=\"top\" class=\"title\"><span class=\"rank\">7.</span></td>      <td></td><td class=\"title\"><a href=\"https://jobs.lever.co/givecampus/874d7233-b7a3-488d-892e-13ef717ceab7\" class=\"storylink\" rel=\"nofollow\">GiveCampus (YC S15) Is Hiring remote Sr engineers passionate about education</a><span class=\"sitebit comhead\"> (<a href=\"from?site=lever.co\"><span class=\"sitestr\">lever.co</span></a>)</span></td></tr><tr><td colspan=\"2\"></td><td class=\"subtext\">\n",
      "        <span class=\"age\"><a href=\"item?id=26413404\">20 minutes ago</a></span> | <a href=\"hide?id=26413404&amp;goto=news\">hide</a>      </td></tr>\n",
      "      <tr class=\"spacer\" style=\"height:5px\"></tr>\n",
      "                <tr class='athing' id='26413311'>\n",
      "      <td align=\"right\" valign=\"top\" class=\"title\"><span class=\"rank\">8.</span></td>      <td valign=\"top\" class=\"votelinks\"><center><a id='up_26413311' href='vote?id=26413311&amp;how=up&amp;goto=news'><div class='votearrow' title='upvote'></div></a></center></td><td class=\"title\"><a href=\"item?id=26413311\" class=\"storylink\">Launch HN: Haystack (YC W21) – Engineering analytics that don’t suck</a></td></tr><tr><td colspan=\"2\"></td><td class=\"subtext\">\n",
      "        <span class=\"score\" id=\"score_26413311\">12 points</span> by <a href=\"user?id=lovedev\" class=\"hnuser\">lovedev</a> <span class=\"age\"><a href=\"item?id=26413311\">27 minutes ago</a></span> <span id=\"unv_26413311\"></span> | <a href=\"hide?id=26413311&amp;goto=news\">hide</a> | <a href=\"item?id=26413311\">discuss</a>              </td></tr>\n",
      "      <tr class=\"spacer\" style=\"height:5px\"></tr>\n",
      "                <tr class='athing' id='26401371'>\n",
      "      <td align=\"right\" valign=\"top\" class=\"title\"><span class=\"rank\">9.</span></td>      <td valign=\"top\" class=\"votelinks\"><center><a id='up_26401371' href='vote?id=26401371&amp;how=up&amp;goto=news'><div class='votearrow' title='upvote'></div></a></center></td><td class=\"title\"><a href=\"https://blog.aaronkharris.com/conflicted-capital\" class=\"storylink\">Conflicted Capital</a><span class=\"sitebit comhead\"> (<a href=\"from?site=aaronkharris.com\"><span class=\"sitestr\">aaronkharris.com</span></a>)</span></td></tr><tr><td colspan=\"2\"></td><td class=\"subtext\">\n",
      "        <span class=\"score\" id=\"score_26401371\">41 points</span> by <a href=\"user?id=adora\" class=\"hnuser\">adora</a> <span class=\"age\"><a href=\"item?id=26401371\">3 hours ago</a></span> <span id=\"unv_26401371\"></span> | <a href=\"hide?id=26401371&amp;goto=news\">hide</a> | <a href=\"item?id=26401371\">17&nbsp;comments</a>              </td></tr>\n",
      "      <tr class=\"spacer\" style=\"height:5px\"></tr>\n",
      "                <tr class='athing' id='26408822'>\n",
      "      <td align=\"right\" valign=\"top\" class=\"title\"><span class=\"rank\">10.</span></td>      <td valign=\"top\" class=\"votelinks\"><center><a id='up_26408822' href='vote?id=26408822&amp;how=up&amp;goto=news'><div class='votearrow' title='upvote'></div></a></center></td><td class=\"title\"><a href=\"http://ehneilsen.net/notebook/orgExamples/org-examples.html\" class=\"storylink\">Emacs org-mode examples and cookbook (2017)</a><span class=\"sitebit comhead\"> (<a href=\"from?site=ehneilsen.net\"><span class=\"sitestr\">ehneilsen.net</span></a>)</span></td></tr><tr><td colspan=\"2\"></td><td class=\"subtext\">\n",
      "        <span class=\"score\" id=\"score_26408822\">178 points</span> by <a href=\"user?id=ddtaylor\" class=\"hnuser\">ddtaylor</a> <span class=\"age\"><a href=\"item?id=26408822\">9 hours ago</a></span> <span id=\"unv_26408822\"></span> | <a href=\"hide?id=26408822&amp;goto=news\">hide</a> | <a href=\"item?id=26408822\">53&nbsp;comments</a>              </td></tr>\n",
      "      <tr class=\"spacer\" style=\"height:5px\"></tr>\n",
      "                <tr class='athing' id='26399707'>\n",
      "      <td align=\"right\" valign=\"top\" class=\"title\"><span class=\"rank\">11.</span></td>      <td valign=\"top\" class=\"votelinks\"><center><a id='up_26399707' href='vote?id=26399707&amp;how=up&amp;goto=news'><div class='votearrow' title='upvote'></div></a></center></td><td class=\"title\"><a href=\"https://allenfarrington.medium.com/wittgensteins-money-7cac8d0635cf\" class=\"storylink\">Wittgenstein’s Money</a><span class=\"sitebit comhead\"> (<a href=\"from?site=allenfarrington.medium.com\"><span class=\"sitestr\">allenfarrington.medium.com</span></a>)</span></td></tr><tr><td colspan=\"2\"></td><td class=\"subtext\">\n",
      "        <span class=\"score\" id=\"score_26399707\">15 points</span> by <a href=\"user?id=noch\" class=\"hnuser\">noch</a> <span class=\"age\"><a href=\"item?id=26399707\">3 hours ago</a></span> <span id=\"unv_26399707\"></span> | <a href=\"hide?id=26399707&amp;goto=news\">hide</a> | <a href=\"item?id=26399707\">9&nbsp;comments</a>              </td></tr>\n",
      "      <tr class=\"spacer\" style=\"height:5px\"></tr>\n",
      "                <tr class='athing' id='26409076'>\n",
      "      <td align=\"right\" valign=\"top\" class=\"title\"><span class=\"rank\">12.</span></td>      <td valign=\"top\" class=\"votelinks\"><center><a id='up_26409076' href='vote?id=26409076&amp;how=up&amp;goto=news'><div class='votearrow' title='upvote'></div></a></center></td><td class=\"title\"><a href=\"http://calpaterson.com/ttl-hell.html\" class=\"storylink\">Staying Out of TTL Hell</a><span class=\"sitebit comhead\"> (<a href=\"from?site=calpaterson.com\"><span class=\"sitestr\">calpaterson.com</span></a>)</span></td></tr><tr><td colspan=\"2\"></td><td class=\"subtext\">\n",
      "        <span class=\"score\" id=\"score_26409076\">93 points</span> by <a href=\"user?id=todsacerdoti\" class=\"hnuser\">todsacerdoti</a> <span class=\"age\"><a href=\"item?id=26409076\">8 hours ago</a></span> <span id=\"unv_26409076\"></span> | <a href=\"hide?id=26409076&amp;goto=news\">hide</a> | <a href=\"item?id=26409076\">33&nbsp;comments</a>              </td></tr>\n",
      "      <tr class=\"spacer\" style=\"height:5px\"></tr>\n",
      "                <tr class='athing' id='26413276'>\n",
      "      <td align=\"right\" valign=\"top\" class=\"title\"><span class=\"rank\">13.</span></td>      <td valign=\"top\" class=\"votelinks\"><center><a id='up_26413276' href='vote?id=26413276&amp;how=up&amp;goto=news'><div class='votearrow' title='upvote'></div></a></center></td><td class=\"title\"><a href=\"https://tim.blog/2021/03/09/vitalik-buterin-naval-ravikant-transcript/\" class=\"storylink\">Interview with Vitalik Buterin on ETH2, Scaling Plans, NFTs, etc.</a><span class=\"sitebit comhead\"> (<a href=\"from?site=tim.blog\"><span class=\"sitestr\">tim.blog</span></a>)</span></td></tr><tr><td colspan=\"2\"></td><td class=\"subtext\">\n",
      "        <span class=\"score\" id=\"score_26413276\">10 points</span> by <a href=\"user?id=donsupreme\" class=\"hnuser\">donsupreme</a> <span class=\"age\"><a href=\"item?id=26413276\">29 minutes ago</a></span> <span id=\"unv_26413276\"></span> | <a href=\"hide?id=26413276&amp;goto=news\">hide</a> | <a href=\"item?id=26413276\">discuss</a>              </td></tr>\n",
      "      <tr class=\"spacer\" style=\"height:5px\"></tr>\n",
      "                <tr class='athing' id='26400602'>\n",
      "      <td align=\"right\" valign=\"top\" class=\"title\"><span class=\"rank\">14.</span></td>      <td valign=\"top\" class=\"votelinks\"><center><a id='up_26400602' href='vote?id=26400602&amp;how=up&amp;goto=news'><div class='votearrow' title='upvote'></div></a></center></td><td class=\"title\"><a href=\"https://ungleich.ch/u/blog/ungleich-tech-talk-3-nat64-introduction/\" class=\"storylink\" rel=\"nofollow\">An Introduction to NAT64</a><span class=\"sitebit comhead\"> (<a href=\"from?site=ungleich.ch\"><span class=\"sitestr\">ungleich.ch</span></a>)</span></td></tr><tr><td colspan=\"2\"></td><td class=\"subtext\">\n",
      "        <span class=\"score\" id=\"score_26400602\">9 points</span> by <a href=\"user?id=telmich\" class=\"hnuser\">telmich</a> <span class=\"age\"><a href=\"item?id=26400602\">2 hours ago</a></span> <span id=\"unv_26400602\"></span> | <a href=\"hide?id=26400602&amp;goto=news\">hide</a> | <a href=\"item?id=26400602\">4&nbsp;comments</a>              </td></tr>\n",
      "      <tr class=\"spacer\" style=\"height:5px\"></tr>\n",
      "                <tr class='athing' id='26375053'>\n",
      "      <td align=\"right\" valign=\"top\" class=\"title\"><span class=\"rank\">15.</span></td>      <td valign=\"top\" class=\"votelinks\"><center><a id='up_26375053' href='vote?id=26375053&amp;how=up&amp;goto=news'><div class='votearrow' title='upvote'></div></a></center></td><td class=\"title\"><a href=\"https://en.wikipedia.org/wiki/Great_Man-Made_River\" class=\"storylink\">Great Man-Made River</a><span class=\"sitebit comhead\"> (<a href=\"from?site=wikipedia.org\"><span class=\"sitestr\">wikipedia.org</span></a>)</span></td></tr><tr><td colspan=\"2\"></td><td class=\"subtext\">\n",
      "        <span class=\"score\" id=\"score_26375053\">97 points</span> by <a href=\"user?id=zeristor\" class=\"hnuser\">zeristor</a> <span class=\"age\"><a href=\"item?id=26375053\">11 hours ago</a></span> <span id=\"unv_26375053\"></span> | <a href=\"hide?id=26375053&amp;goto=news\">hide</a> | <a href=\"item?id=26375053\">39&nbsp;comments</a>              </td></tr>\n",
      "      <tr class=\"spacer\" style=\"height:5px\"></tr>\n",
      "                <tr class='athing' id='26408941'>\n",
      "      <td align=\"right\" valign=\"top\" class=\"title\"><span class=\"rank\">16.</span></td>      <td valign=\"top\" class=\"votelinks\"><center><a id='up_26408941' href='vote?id=26408941&amp;how=up&amp;goto=news'><div class='votearrow' title='upvote'></div></a></center></td><td class=\"title\"><a href=\"https://www.bbc.co.uk/news/business-56340077\" class=\"storylink\">UK 'Right to repair' law to come in this summer</a><span class=\"sitebit comhead\"> (<a href=\"from?site=bbc.co.uk\"><span class=\"sitestr\">bbc.co.uk</span></a>)</span></td></tr><tr><td colspan=\"2\"></td><td class=\"subtext\">\n",
      "        <span class=\"score\" id=\"score_26408941\">187 points</span> by <a href=\"user?id=djaychela\" class=\"hnuser\">djaychela</a> <span class=\"age\"><a href=\"item?id=26408941\">9 hours ago</a></span> <span id=\"unv_26408941\"></span> | <a href=\"hide?id=26408941&amp;goto=news\">hide</a> | <a href=\"item?id=26408941\">132&nbsp;comments</a>              </td></tr>\n",
      "      <tr class=\"spacer\" style=\"height:5px\"></tr>\n",
      "                <tr class='athing' id='26410575'>\n",
      "      <td align=\"right\" valign=\"top\" class=\"title\"><span class=\"rank\">17.</span></td>      <td valign=\"top\" class=\"votelinks\"><center><a id='up_26410575' href='vote?id=26410575&amp;how=up&amp;goto=news'><div class='votearrow' title='upvote'></div></a></center></td><td class=\"title\"><a href=\"https://aeon.co/essays/why-is-the-deathbed-perspective-considered-so-valuable\" class=\"storylink\">Why is the deathbed perspective considered so valuable?</a><span class=\"sitebit comhead\"> (<a href=\"from?site=aeon.co\"><span class=\"sitestr\">aeon.co</span></a>)</span></td></tr><tr><td colspan=\"2\"></td><td class=\"subtext\">\n",
      "        <span class=\"score\" id=\"score_26410575\">79 points</span> by <a href=\"user?id=optimalsolver\" class=\"hnuser\">optimalsolver</a> <span class=\"age\"><a href=\"item?id=26410575\">4 hours ago</a></span> <span id=\"unv_26410575\"></span> | <a href=\"hide?id=26410575&amp;goto=news\">hide</a> | <a href=\"item?id=26410575\">105&nbsp;comments</a>              </td></tr>\n",
      "      <tr class=\"spacer\" style=\"height:5px\"></tr>\n",
      "                <tr class='athing' id='26409156'>\n",
      "      <td align=\"right\" valign=\"top\" class=\"title\"><span class=\"rank\">18.</span></td>      <td valign=\"top\" class=\"votelinks\"><center><a id='up_26409156' href='vote?id=26409156&amp;how=up&amp;goto=news'><div class='votearrow' title='upvote'></div></a></center></td><td class=\"title\"><a href=\"https://www.usenix.org/legacy/publications/library/proceedings/usenix2000/invitedtalks/sanchez_html/sanchez.html\" class=\"storylink\">The Challenges of Integrating the Unix and Mac OS Environments (2000)</a><span class=\"sitebit comhead\"> (<a href=\"from?site=usenix.org\"><span class=\"sitestr\">usenix.org</span></a>)</span></td></tr><tr><td colspan=\"2\"></td><td class=\"subtext\">\n",
      "        <span class=\"score\" id=\"score_26409156\">61 points</span> by <a href=\"user?id=DvdGiessen\" class=\"hnuser\">DvdGiessen</a> <span class=\"age\"><a href=\"item?id=26409156\">8 hours ago</a></span> <span id=\"unv_26409156\"></span> | <a href=\"hide?id=26409156&amp;goto=news\">hide</a> | <a href=\"item?id=26409156\">14&nbsp;comments</a>              </td></tr>\n",
      "      <tr class=\"spacer\" style=\"height:5px\"></tr>\n",
      "                <tr class='athing' id='26412331'>\n",
      "      <td align=\"right\" valign=\"top\" class=\"title\"><span class=\"rank\">19.</span></td>      <td valign=\"top\" class=\"votelinks\"><center><a id='up_26412331' href='vote?id=26412331&amp;how=up&amp;goto=news'><div class='votearrow' title='upvote'></div></a></center></td><td class=\"title\"><a href=\"https://www.yahoo.com/entertainment/facebook-and-twitter-algorithms-incentivize-people-to-get-enraged-walter-isaacson-145710378.html\" class=\"storylink\">Facebook and Twitter algorithms incentivize 'people to get enraged'</a><span class=\"sitebit comhead\"> (<a href=\"from?site=yahoo.com\"><span class=\"sitestr\">yahoo.com</span></a>)</span></td></tr><tr><td colspan=\"2\"></td><td class=\"subtext\">\n",
      "        <span class=\"score\" id=\"score_26412331\">139 points</span> by <a href=\"user?id=garraeth\" class=\"hnuser\">garraeth</a> <span class=\"age\"><a href=\"item?id=26412331\">1 hour ago</a></span> <span id=\"unv_26412331\"></span> | <a href=\"hide?id=26412331&amp;goto=news\">hide</a> | <a href=\"item?id=26412331\">103&nbsp;comments</a>              </td></tr>\n",
      "      <tr class=\"spacer\" style=\"height:5px\"></tr>\n",
      "                <tr class='athing' id='26407783'>\n",
      "      <td align=\"right\" valign=\"top\" class=\"title\"><span class=\"rank\">20.</span></td>      <td valign=\"top\" class=\"votelinks\"><center><a id='up_26407783' href='vote?id=26407783&amp;how=up&amp;goto=news'><div class='votearrow' title='upvote'></div></a></center></td><td class=\"title\"><a href=\"http://www.s100computers.com/My%20System%20Pages/80486%20Board/80486%20CPU%20Board.htm\" class=\"storylink\">An S-100 80486 CPU Board</a><span class=\"sitebit comhead\"> (<a href=\"from?site=s100computers.com\"><span class=\"sitestr\">s100computers.com</span></a>)</span></td></tr><tr><td colspan=\"2\"></td><td class=\"subtext\">\n",
      "        <span class=\"score\" id=\"score_26407783\">91 points</span> by <a href=\"user?id=userbinator\" class=\"hnuser\">userbinator</a> <span class=\"age\"><a href=\"item?id=26407783\">12 hours ago</a></span> <span id=\"unv_26407783\"></span> | <a href=\"hide?id=26407783&amp;goto=news\">hide</a> | <a href=\"item?id=26407783\">44&nbsp;comments</a>              </td></tr>\n",
      "      <tr class=\"spacer\" style=\"height:5px\"></tr>\n",
      "                <tr class='athing' id='26396759'>\n",
      "      <td align=\"right\" valign=\"top\" class=\"title\"><span class=\"rank\">21.</span></td>      <td valign=\"top\" class=\"votelinks\"><center><a id='up_26396759' href='vote?id=26396759&amp;how=up&amp;goto=news'><div class='votearrow' title='upvote'></div></a></center></td><td class=\"title\"><a href=\"https://seawatergreenhouse.com/construction-blog/2017/11/7/construction-completed\" class=\"storylink\">Seawater Greenhouse (2017)</a><span class=\"sitebit comhead\"> (<a href=\"from?site=seawatergreenhouse.com\"><span class=\"sitestr\">seawatergreenhouse.com</span></a>)</span></td></tr><tr><td colspan=\"2\"></td><td class=\"subtext\">\n",
      "        <span class=\"score\" id=\"score_26396759\">52 points</span> by <a href=\"user?id=zeristor\" class=\"hnuser\">zeristor</a> <span class=\"age\"><a href=\"item?id=26396759\">8 hours ago</a></span> <span id=\"unv_26396759\"></span> | <a href=\"hide?id=26396759&amp;goto=news\">hide</a> | <a href=\"item?id=26396759\">16&nbsp;comments</a>              </td></tr>\n",
      "      <tr class=\"spacer\" style=\"height:5px\"></tr>\n",
      "                <tr class='athing' id='26406989'>\n",
      "      <td align=\"right\" valign=\"top\" class=\"title\"><span class=\"rank\">22.</span></td>      <td valign=\"top\" class=\"votelinks\"><center><a id='up_26406989' href='vote?id=26406989&amp;how=up&amp;goto=news'><div class='votearrow' title='upvote'></div></a></center></td><td class=\"title\"><a href=\"https://theta.eu.org/2021/03/08/async-rust-2.html\" class=\"storylink\">Why asynchronous Rust doesn't work</a><span class=\"sitebit comhead\"> (<a href=\"from?site=theta.eu.org\"><span class=\"sitestr\">theta.eu.org</span></a>)</span></td></tr><tr><td colspan=\"2\"></td><td class=\"subtext\">\n",
      "        <span class=\"score\" id=\"score_26406989\">523 points</span> by <a href=\"user?id=tazjin\" class=\"hnuser\">tazjin</a> <span class=\"age\"><a href=\"item?id=26406989\">15 hours ago</a></span> <span id=\"unv_26406989\"></span> | <a href=\"hide?id=26406989&amp;goto=news\">hide</a> | <a href=\"item?id=26406989\">385&nbsp;comments</a>              </td></tr>\n",
      "      <tr class=\"spacer\" style=\"height:5px\"></tr>\n",
      "                <tr class='athing' id='26398415'>\n",
      "      <td align=\"right\" valign=\"top\" class=\"title\"><span class=\"rank\">23.</span></td>      <td valign=\"top\" class=\"votelinks\"><center><a id='up_26398415' href='vote?id=26398415&amp;how=up&amp;goto=news'><div class='votearrow' title='upvote'></div></a></center></td><td class=\"title\"><a href=\"https://dnlhg.com/posts/database-ux-ideas\" class=\"storylink\">Ideas to improve the user and developer experiences of databases</a><span class=\"sitebit comhead\"> (<a href=\"from?site=dnlhg.com\"><span class=\"sitestr\">dnlhg.com</span></a>)</span></td></tr><tr><td colspan=\"2\"></td><td class=\"subtext\">\n",
      "        <span class=\"score\" id=\"score_26398415\">71 points</span> by <a href=\"user?id=dnlhg\" class=\"hnuser\">dnlhg</a> <span class=\"age\"><a href=\"item?id=26398415\">12 hours ago</a></span> <span id=\"unv_26398415\"></span> | <a href=\"hide?id=26398415&amp;goto=news\">hide</a> | <a href=\"item?id=26398415\">40&nbsp;comments</a>              </td></tr>\n",
      "      <tr class=\"spacer\" style=\"height:5px\"></tr>\n",
      "                <tr class='athing' id='26404830'>\n",
      "      <td align=\"right\" valign=\"top\" class=\"title\"><span class=\"rank\">24.</span></td>      <td valign=\"top\" class=\"votelinks\"><center><a id='up_26404830' href='vote?id=26404830&amp;how=up&amp;goto=news'><div class='votearrow' title='upvote'></div></a></center></td><td class=\"title\"><a href=\"https://www.openwall.com/lists/oss-security/2021/03/09/3\" class=\"storylink\">Git: Malicious repositories can execute remote code while cloning</a><span class=\"sitebit comhead\"> (<a href=\"from?site=openwall.com\"><span class=\"sitestr\">openwall.com</span></a>)</span></td></tr><tr><td colspan=\"2\"></td><td class=\"subtext\">\n",
      "        <span class=\"score\" id=\"score_26404830\">571 points</span> by <a href=\"user?id=todsacerdoti\" class=\"hnuser\">todsacerdoti</a> <span class=\"age\"><a href=\"item?id=26404830\">19 hours ago</a></span> <span id=\"unv_26404830\"></span> | <a href=\"hide?id=26404830&amp;goto=news\">hide</a> | <a href=\"item?id=26404830\">192&nbsp;comments</a>              </td></tr>\n",
      "      <tr class=\"spacer\" style=\"height:5px\"></tr>\n",
      "                <tr class='athing' id='26405056'>\n",
      "      <td align=\"right\" valign=\"top\" class=\"title\"><span class=\"rank\">25.</span></td>      <td valign=\"top\" class=\"votelinks\"><center><a id='up_26405056' href='vote?id=26405056&amp;how=up&amp;goto=news'><div class='votearrow' title='upvote'></div></a></center></td><td class=\"title\"><a href=\"https://www.bnnbloomberg.ca/hackers-break-into-thousands-of-security-cameras-exposing-tesla-jails-hospitals-1.1574681\" class=\"storylink\">Hackers break into thousands of security cameras, exposing Tesla, jail, hospital</a><span class=\"sitebit comhead\"> (<a href=\"from?site=bnnbloomberg.ca\"><span class=\"sitestr\">bnnbloomberg.ca</span></a>)</span></td></tr><tr><td colspan=\"2\"></td><td class=\"subtext\">\n",
      "        <span class=\"score\" id=\"score_26405056\">617 points</span> by <a href=\"user?id=f430\" class=\"hnuser\">f430</a> <span class=\"age\"><a href=\"item?id=26405056\">19 hours ago</a></span> <span id=\"unv_26405056\"></span> | <a href=\"hide?id=26405056&amp;goto=news\">hide</a> | <a href=\"item?id=26405056\">247&nbsp;comments</a>              </td></tr>\n",
      "      <tr class=\"spacer\" style=\"height:5px\"></tr>\n",
      "                <tr class='athing' id='26407854'>\n",
      "      <td align=\"right\" valign=\"top\" class=\"title\"><span class=\"rank\">26.</span></td>      <td valign=\"top\" class=\"votelinks\"><center><a id='up_26407854' href='vote?id=26407854&amp;how=up&amp;goto=news'><div class='votearrow' title='upvote'></div></a></center></td><td class=\"title\"><a href=\"https://www.thedrive.com/news/39688/drivers-new-to-automated-assists-more-often-missed-a-giant-teddy-bear-speeding-past-them-study\" class=\"storylink\">Drivers new to level 2 driving assistance had lower awareness of on-road events</a><span class=\"sitebit comhead\"> (<a href=\"from?site=thedrive.com\"><span class=\"sitestr\">thedrive.com</span></a>)</span></td></tr><tr><td colspan=\"2\"></td><td class=\"subtext\">\n",
      "        <span class=\"score\" id=\"score_26407854\">66 points</span> by <a href=\"user?id=alphabettsy\" class=\"hnuser\">alphabettsy</a> <span class=\"age\"><a href=\"item?id=26407854\">12 hours ago</a></span> <span id=\"unv_26407854\"></span> | <a href=\"hide?id=26407854&amp;goto=news\">hide</a> | <a href=\"item?id=26407854\">74&nbsp;comments</a>              </td></tr>\n",
      "      <tr class=\"spacer\" style=\"height:5px\"></tr>\n",
      "                <tr class='athing' id='26409174'>\n",
      "      <td align=\"right\" valign=\"top\" class=\"title\"><span class=\"rank\">27.</span></td>      <td valign=\"top\" class=\"votelinks\"><center><a id='up_26409174' href='vote?id=26409174&amp;how=up&amp;goto=news'><div class='votearrow' title='upvote'></div></a></center></td><td class=\"title\"><a href=\"https://www.delta.tudelft.nl/article/delft-cafe-premieres-eemcs-blockchain-euro\" class=\"storylink\">Delft café premieres with EEMCS blockchain euro</a><span class=\"sitebit comhead\"> (<a href=\"from?site=tudelft.nl\"><span class=\"sitestr\">tudelft.nl</span></a>)</span></td></tr><tr><td colspan=\"2\"></td><td class=\"subtext\">\n",
      "        <span class=\"score\" id=\"score_26409174\">99 points</span> by <a href=\"user?id=synctext\" class=\"hnuser\">synctext</a> <span class=\"age\"><a href=\"item?id=26409174\">8 hours ago</a></span> <span id=\"unv_26409174\"></span> | <a href=\"hide?id=26409174&amp;goto=news\">hide</a> | <a href=\"item?id=26409174\">58&nbsp;comments</a>              </td></tr>\n",
      "      <tr class=\"spacer\" style=\"height:5px\"></tr>\n",
      "                <tr class='athing' id='26407560'>\n",
      "      <td align=\"right\" valign=\"top\" class=\"title\"><span class=\"rank\">28.</span></td>      <td valign=\"top\" class=\"votelinks\"><center><a id='up_26407560' href='vote?id=26407560&amp;how=up&amp;goto=news'><div class='votearrow' title='upvote'></div></a></center></td><td class=\"title\"><a href=\"item?id=26407560\" class=\"storylink\">Ask HN: Those who quit their jobs to travel the world, how did it go?</a></td></tr><tr><td colspan=\"2\"></td><td class=\"subtext\">\n",
      "        <span class=\"score\" id=\"score_26407560\">327 points</span> by <a href=\"user?id=cercatrova\" class=\"hnuser\">cercatrova</a> <span class=\"age\"><a href=\"item?id=26407560\">13 hours ago</a></span> <span id=\"unv_26407560\"></span> | <a href=\"hide?id=26407560&amp;goto=news\">hide</a> | <a href=\"item?id=26407560\">350&nbsp;comments</a>              </td></tr>\n",
      "      <tr class=\"spacer\" style=\"height:5px\"></tr>\n",
      "                <tr class='athing' id='26411499'>\n",
      "      <td align=\"right\" valign=\"top\" class=\"title\"><span class=\"rank\">29.</span></td>      <td valign=\"top\" class=\"votelinks\"><center><a id='up_26411499' href='vote?id=26411499&amp;how=up&amp;goto=news'><div class='votearrow' title='upvote'></div></a></center></td><td class=\"title\"><a href=\"https://www.quantamagazine.org/what-is-life-its-vast-diversity-defies-easy-definition-20210309/?mc_cid=c8ad7e0141&amp;mc_eid=8663481594\" class=\"storylink\">What Is Life? Its Vast Diversity Defies Easy Definition</a><span class=\"sitebit comhead\"> (<a href=\"from?site=quantamagazine.org\"><span class=\"sitestr\">quantamagazine.org</span></a>)</span></td></tr><tr><td colspan=\"2\"></td><td class=\"subtext\">\n",
      "        <span class=\"score\" id=\"score_26411499\">35 points</span> by <a href=\"user?id=gHeadphone\" class=\"hnuser\">gHeadphone</a> <span class=\"age\"><a href=\"item?id=26411499\">2 hours ago</a></span> <span id=\"unv_26411499\"></span> | <a href=\"hide?id=26411499&amp;goto=news\">hide</a> | <a href=\"item?id=26411499\">42&nbsp;comments</a>              </td></tr>\n",
      "      <tr class=\"spacer\" style=\"height:5px\"></tr>\n",
      "                <tr class='athing' id='26409419'>\n",
      "      <td align=\"right\" valign=\"top\" class=\"title\"><span class=\"rank\">30.</span></td>      <td valign=\"top\" class=\"votelinks\"><center><a id='up_26409419' href='vote?id=26409419&amp;how=up&amp;goto=news'><div class='votearrow' title='upvote'></div></a></center></td><td class=\"title\"><a href=\"https://graphics.reuters.com/HEALTH-CORONAVIRUS/BATS/qzjpqglbxpx/\" class=\"storylink\">Bats and the Origin of Outbreaks</a><span class=\"sitebit comhead\"> (<a href=\"from?site=reuters.com\"><span class=\"sitestr\">reuters.com</span></a>)</span></td></tr><tr><td colspan=\"2\"></td><td class=\"subtext\">\n",
      "        <span class=\"score\" id=\"score_26409419\">65 points</span> by <a href=\"user?id=jordinebot\" class=\"hnuser\">jordinebot</a> <span class=\"age\"><a href=\"item?id=26409419\">7 hours ago</a></span> <span id=\"unv_26409419\"></span> | <a href=\"hide?id=26409419&amp;goto=news\">hide</a> | <a href=\"item?id=26409419\">41&nbsp;comments</a>              </td></tr>\n",
      "      <tr class=\"spacer\" style=\"height:5px\"></tr>\n",
      "            <tr class=\"morespace\" style=\"height:10px\"></tr><tr><td colspan=\"2\"></td><td class=\"title\"><a href=\"news?p=2\" class=\"morelink\" rel=\"next\">More</a></td></tr>\n",
      "  </table>\n",
      "</td></tr>\n",
      "<tr><td><img src=\"s.gif\" height=\"10\" width=\"0\"><table width=\"100%\" cellspacing=\"0\" cellpadding=\"1\"><tr><td bgcolor=\"#ff6600\"></td></tr></table><br><center><a href=\"https://www.ycombinator.com/apply/\">\n",
      "        Applications are open for YC Summer 2021\n",
      "      </a></center><br><center><span class=\"yclinks\"><a href=\"newsguidelines.html\">Guidelines</a>\n",
      "        | <a href=\"newsfaq.html\">FAQ</a>\n",
      "        | <a href=\"lists\">Lists</a>\n",
      "        | <a href=\"https://github.com/HackerNews/API\">API</a>\n",
      "        | <a href=\"security.html\">Security</a>\n",
      "        | <a href=\"http://www.ycombinator.com/legal/\">Legal</a>\n",
      "        | <a href=\"http://www.ycombinator.com/apply/\">Apply to YC</a>\n",
      "        | <a href=\"mailto:hn@ycombinator.com\">Contact</a></span><br><br><form method=\"get\" action=\"//hn.algolia.com/\">Search:\n",
      "          <input type=\"text\" name=\"q\" value=\"\" size=\"17\" autocorrect=\"off\" spellcheck=\"false\" autocapitalize=\"off\" autocomplete=\"false\"></form>\n",
      "            </center></td></tr>\n",
      "      </table></center></body><script type='text/javascript' src='hn.js?vCXF3xkDq4MUjbSOE95q'></script></html>\n",
      "\n"
     ]
    }
   ],
   "source": [
    "import requests\n",
    "\n",
    "# Fetch a web page\n",
    "r = requests.get(\"https://news.ycombinator.com\")\n",
    "print(r.text)"
   ]
  },
  {
   "cell_type": "code",
   "execution_count": 5,
   "metadata": {},
   "outputs": [
    {
     "name": "stdout",
     "output_type": "stream",
     "text": [
      "\n",
      "        \n",
      "          \n",
      "        Hacker News\n",
      "        \n",
      "                  Hacker News\n",
      "              new | past | comments | ask | show | jobs | submit            \n",
      "                              login\n",
      "                          \n",
      "              \n",
      "\n",
      "              \n",
      "      1.      Lou Ottens, inventor of cassette tape, has died (netherlandsnewslive.com)\n",
      "        251 points by Anon84 5 hours ago  | hide | 85&nbsp;comments              \n",
      "      \n",
      "                \n",
      "      2.      Launch HN: Remora (YC W21) – Carbon capture for semi trucks\n",
      "        41 points by paulgross 1 hour ago  | hide | 20&nbsp;comments              \n",
      "      \n",
      "                \n",
      "      3.      Decoded GNU coreutils: Exploring the design of GNU utilities (maizure.org)\n",
      "        32 points by pcr910303 2 hours ago  | hide | 2&nbsp;comments              \n",
      "      \n",
      "                \n",
      "      4.      Fire declared in OVH SBG2 datacentre building (ovh.net)\n",
      "        949 points by finniananderson 14 hours ago  | hide | 468&nbsp;comments              \n",
      "      \n",
      "                \n",
      "      5.      Authelia is an open-source authentication/authorization server with 2FA/SSO (github.com/authelia)\n",
      "        171 points by thunderbong 6 hours ago  | hide | 60&nbsp;comments              \n",
      "      \n",
      "                \n",
      "      6.      We created a fake language to root out resume liars (facebook.com)\n",
      "        379 points by rmason 11 hours ago  | hide | 503&nbsp;comments              \n",
      "      \n",
      "                \n",
      "      7.      GiveCampus (YC S15) Is Hiring remote Sr engineers passionate about education (lever.co)\n",
      "        20 minutes ago | hide      \n",
      "      \n",
      "                \n",
      "      8.      Launch HN: Haystack (YC W21) – Engineering analytics that don’t suck\n",
      "        12 points by lovedev 27 minutes ago  | hide | discuss              \n",
      "      \n",
      "                \n",
      "      9.      Conflicted Capital (aaronkharris.com)\n",
      "        41 points by adora 3 hours ago  | hide | 17&nbsp;comments              \n",
      "      \n",
      "                \n",
      "      10.      Emacs org-mode examples and cookbook (2017) (ehneilsen.net)\n",
      "        178 points by ddtaylor 9 hours ago  | hide | 53&nbsp;comments              \n",
      "      \n",
      "                \n",
      "      11.      Wittgenstein’s Money (allenfarrington.medium.com)\n",
      "        15 points by noch 3 hours ago  | hide | 9&nbsp;comments              \n",
      "      \n",
      "                \n",
      "      12.      Staying Out of TTL Hell (calpaterson.com)\n",
      "        93 points by todsacerdoti 8 hours ago  | hide | 33&nbsp;comments              \n",
      "      \n",
      "                \n",
      "      13.      Interview with Vitalik Buterin on ETH2, Scaling Plans, NFTs, etc. (tim.blog)\n",
      "        10 points by donsupreme 29 minutes ago  | hide | discuss              \n",
      "      \n",
      "                \n",
      "      14.      An Introduction to NAT64 (ungleich.ch)\n",
      "        9 points by telmich 2 hours ago  | hide | 4&nbsp;comments              \n",
      "      \n",
      "                \n",
      "      15.      Great Man-Made River (wikipedia.org)\n",
      "        97 points by zeristor 11 hours ago  | hide | 39&nbsp;comments              \n",
      "      \n",
      "                \n",
      "      16.      UK 'Right to repair' law to come in this summer (bbc.co.uk)\n",
      "        187 points by djaychela 9 hours ago  | hide | 132&nbsp;comments              \n",
      "      \n",
      "                \n",
      "      17.      Why is the deathbed perspective considered so valuable? (aeon.co)\n",
      "        79 points by optimalsolver 4 hours ago  | hide | 105&nbsp;comments              \n",
      "      \n",
      "                \n",
      "      18.      The Challenges of Integrating the Unix and Mac OS Environments (2000) (usenix.org)\n",
      "        61 points by DvdGiessen 8 hours ago  | hide | 14&nbsp;comments              \n",
      "      \n",
      "                \n",
      "      19.      Facebook and Twitter algorithms incentivize 'people to get enraged' (yahoo.com)\n",
      "        139 points by garraeth 1 hour ago  | hide | 103&nbsp;comments              \n",
      "      \n",
      "                \n",
      "      20.      An S-100 80486 CPU Board (s100computers.com)\n",
      "        91 points by userbinator 12 hours ago  | hide | 44&nbsp;comments              \n",
      "      \n",
      "                \n",
      "      21.      Seawater Greenhouse (2017) (seawatergreenhouse.com)\n",
      "        52 points by zeristor 8 hours ago  | hide | 16&nbsp;comments              \n",
      "      \n",
      "                \n",
      "      22.      Why asynchronous Rust doesn't work (theta.eu.org)\n",
      "        523 points by tazjin 15 hours ago  | hide | 385&nbsp;comments              \n",
      "      \n",
      "                \n",
      "      23.      Ideas to improve the user and developer experiences of databases (dnlhg.com)\n",
      "        71 points by dnlhg 12 hours ago  | hide | 40&nbsp;comments              \n",
      "      \n",
      "                \n",
      "      24.      Git: Malicious repositories can execute remote code while cloning (openwall.com)\n",
      "        571 points by todsacerdoti 19 hours ago  | hide | 192&nbsp;comments              \n",
      "      \n",
      "                \n",
      "      25.      Hackers break into thousands of security cameras, exposing Tesla, jail, hospital (bnnbloomberg.ca)\n",
      "        617 points by f430 19 hours ago  | hide | 247&nbsp;comments              \n",
      "      \n",
      "                \n",
      "      26.      Drivers new to level 2 driving assistance had lower awareness of on-road events (thedrive.com)\n",
      "        66 points by alphabettsy 12 hours ago  | hide | 74&nbsp;comments              \n",
      "      \n",
      "                \n",
      "      27.      Delft café premieres with EEMCS blockchain euro (tudelft.nl)\n",
      "        99 points by synctext 8 hours ago  | hide | 58&nbsp;comments              \n",
      "      \n",
      "                \n",
      "      28.      Ask HN: Those who quit their jobs to travel the world, how did it go?\n",
      "        327 points by cercatrova 13 hours ago  | hide | 350&nbsp;comments              \n",
      "      \n",
      "                \n",
      "      29.      What Is Life? Its Vast Diversity Defies Easy Definition (quantamagazine.org)\n",
      "        35 points by gHeadphone 2 hours ago  | hide | 42&nbsp;comments              \n",
      "      \n",
      "                \n",
      "      30.      Bats and the Origin of Outbreaks (reuters.com)\n",
      "        65 points by jordinebot 7 hours ago  | hide | 41&nbsp;comments              \n",
      "      \n",
      "            More\n",
      "  \n",
      "\n",
      "\n",
      "        Applications are open for YC Summer 2021\n",
      "      Guidelines\n",
      "        | FAQ\n",
      "        | Lists\n",
      "        | API\n",
      "        | Security\n",
      "        | Legal\n",
      "        | Apply to YC\n",
      "        | ContactSearch:\n",
      "          \n",
      "            \n",
      "      \n",
      "\n"
     ]
    }
   ],
   "source": [
    "import re\n",
    "\n",
    "# Remove HTML tags using RegEx\n",
    "pattern = re.compile(r'<.*?>')  # tags look like <...>\n",
    "print(pattern.sub('', r.text))  # replace them with blank"
   ]
  },
  {
   "cell_type": "code",
   "execution_count": 6,
   "metadata": {},
   "outputs": [
    {
     "name": "stdout",
     "output_type": "stream",
     "text": [
      "\n",
      "        \n",
      "          \n",
      "        Hacker News\n",
      "        \n",
      "                  Hacker News\n",
      "              new | past | comments | ask | show | jobs | submit            \n",
      "                              login\n",
      "                          \n",
      "              \n",
      "\n",
      "              \n",
      "      1.      Lou Ottens, inventor of cassette tape, has died (netherlandsnewslive.com)\n",
      "        251 points by Anon84 5 hours ago  | hide | 85 comments              \n",
      "      \n",
      "                \n",
      "      2.      Launch HN: Remora (YC W21) – Carbon capture for semi trucks\n",
      "        41 points by paulgross 1 hour ago  | hide | 20 comments              \n",
      "      \n",
      "                \n",
      "      3.      Decoded GNU coreutils: Exploring the design of GNU utilities (maizure.org)\n",
      "        32 points by pcr910303 2 hours ago  | hide | 2 comments              \n",
      "      \n",
      "                \n",
      "      4.      Fire declared in OVH SBG2 datacentre building (ovh.net)\n",
      "        949 points by finniananderson 14 hours ago  | hide | 468 comments              \n",
      "      \n",
      "                \n",
      "      5.      Authelia is an open-source authentication/authorization server with 2FA/SSO (github.com/authelia)\n",
      "        171 points by thunderbong 6 hours ago  | hide | 60 comments              \n",
      "      \n",
      "                \n",
      "      6.      We created a fake language to root out resume liars (facebook.com)\n",
      "        379 points by rmason 11 hours ago  | hide | 503 comments              \n",
      "      \n",
      "                \n",
      "      7.      GiveCampus (YC S15) Is Hiring remote Sr engineers passionate about education (lever.co)\n",
      "        20 minutes ago | hide      \n",
      "      \n",
      "                \n",
      "      8.      Launch HN: Haystack (YC W21) – Engineering analytics that don’t suck\n",
      "        12 points by lovedev 27 minutes ago  | hide | discuss              \n",
      "      \n",
      "                \n",
      "      9.      Conflicted Capital (aaronkharris.com)\n",
      "        41 points by adora 3 hours ago  | hide | 17 comments              \n",
      "      \n",
      "                \n",
      "      10.      Emacs org-mode examples and cookbook (2017) (ehneilsen.net)\n",
      "        178 points by ddtaylor 9 hours ago  | hide | 53 comments              \n",
      "      \n",
      "                \n",
      "      11.      Wittgenstein’s Money (allenfarrington.medium.com)\n",
      "        15 points by noch 3 hours ago  | hide | 9 comments              \n",
      "      \n",
      "                \n",
      "      12.      Staying Out of TTL Hell (calpaterson.com)\n",
      "        93 points by todsacerdoti 8 hours ago  | hide | 33 comments              \n",
      "      \n",
      "                \n",
      "      13.      Interview with Vitalik Buterin on ETH2, Scaling Plans, NFTs, etc. (tim.blog)\n",
      "        10 points by donsupreme 29 minutes ago  | hide | discuss              \n",
      "      \n",
      "                \n",
      "      14.      An Introduction to NAT64 (ungleich.ch)\n",
      "        9 points by telmich 2 hours ago  | hide | 4 comments              \n",
      "      \n",
      "                \n",
      "      15.      Great Man-Made River (wikipedia.org)\n",
      "        97 points by zeristor 11 hours ago  | hide | 39 comments              \n",
      "      \n",
      "                \n",
      "      16.      UK 'Right to repair' law to come in this summer (bbc.co.uk)\n",
      "        187 points by djaychela 9 hours ago  | hide | 132 comments              \n",
      "      \n",
      "                \n",
      "      17.      Why is the deathbed perspective considered so valuable? (aeon.co)\n",
      "        79 points by optimalsolver 4 hours ago  | hide | 105 comments              \n",
      "      \n",
      "                \n",
      "      18.      The Challenges of Integrating the Unix and Mac OS Environments (2000) (usenix.org)\n",
      "        61 points by DvdGiessen 8 hours ago  | hide | 14 comments              \n",
      "      \n",
      "                \n",
      "      19.      Facebook and Twitter algorithms incentivize 'people to get enraged' (yahoo.com)\n",
      "        139 points by garraeth 1 hour ago  | hide | 103 comments              \n",
      "      \n",
      "                \n",
      "      20.      An S-100 80486 CPU Board (s100computers.com)\n",
      "        91 points by userbinator 12 hours ago  | hide | 44 comments              \n",
      "      \n",
      "                \n",
      "      21.      Seawater Greenhouse (2017) (seawatergreenhouse.com)\n",
      "        52 points by zeristor 8 hours ago  | hide | 16 comments              \n",
      "      \n",
      "                \n",
      "      22.      Why asynchronous Rust doesn't work (theta.eu.org)\n",
      "        523 points by tazjin 15 hours ago  | hide | 385 comments              \n",
      "      \n",
      "                \n",
      "      23.      Ideas to improve the user and developer experiences of databases (dnlhg.com)\n",
      "        71 points by dnlhg 12 hours ago  | hide | 40 comments              \n",
      "      \n",
      "                \n",
      "      24.      Git: Malicious repositories can execute remote code while cloning (openwall.com)\n",
      "        571 points by todsacerdoti 19 hours ago  | hide | 192 comments              \n",
      "      \n",
      "                \n",
      "      25.      Hackers break into thousands of security cameras, exposing Tesla, jail, hospital (bnnbloomberg.ca)\n",
      "        617 points by f430 19 hours ago  | hide | 247 comments              \n",
      "      \n",
      "                \n",
      "      26.      Drivers new to level 2 driving assistance had lower awareness of on-road events (thedrive.com)\n",
      "        66 points by alphabettsy 12 hours ago  | hide | 74 comments              \n",
      "      \n",
      "                \n",
      "      27.      Delft café premieres with EEMCS blockchain euro (tudelft.nl)\n",
      "        99 points by synctext 8 hours ago  | hide | 58 comments              \n",
      "      \n",
      "                \n",
      "      28.      Ask HN: Those who quit their jobs to travel the world, how did it go?\n",
      "        327 points by cercatrova 13 hours ago  | hide | 350 comments              \n",
      "      \n",
      "                \n",
      "      29.      What Is Life? Its Vast Diversity Defies Easy Definition (quantamagazine.org)\n",
      "        35 points by gHeadphone 2 hours ago  | hide | 42 comments              \n",
      "      \n",
      "                \n",
      "      30.      Bats and the Origin of Outbreaks (reuters.com)\n",
      "        65 points by jordinebot 7 hours ago  | hide | 41 comments              \n",
      "      \n",
      "            More\n",
      "  \n",
      "\n",
      "\n",
      "        Applications are open for YC Summer 2021\n",
      "      Guidelines\n",
      "        | FAQ\n",
      "        | Lists\n",
      "        | API\n",
      "        | Security\n",
      "        | Legal\n",
      "        | Apply to YC\n",
      "        | ContactSearch:\n",
      "          \n",
      "            \n",
      "      \n",
      "\n"
     ]
    }
   ],
   "source": [
    "from bs4 import BeautifulSoup\n",
    "\n",
    "# Remove HTML tags using Beautiful Soup library\n",
    "soup = BeautifulSoup(r.text, \"html5lib\")\n",
    "print(soup.get_text())"
   ]
  },
  {
   "cell_type": "code",
   "execution_count": 7,
   "metadata": {
    "scrolled": true
   },
   "outputs": [
    {
     "data": {
      "text/plain": [
       "<tr class=\"athing\" id=\"26410135\">\n",
       "      <td align=\"right\" class=\"title\" valign=\"top\"><span class=\"rank\">1.</span></td>      <td class=\"votelinks\" valign=\"top\"><center><a href=\"vote?id=26410135&amp;how=up&amp;goto=news\" id=\"up_26410135\"><div class=\"votearrow\" title=\"upvote\"></div></a></center></td><td class=\"title\"><a class=\"storylink\" href=\"https://netherlandsnewslive.com/inventor-of-cassette-tape-lou-ottens-passed-away-financial/107722/\">Lou Ottens, inventor of cassette tape, has died</a><span class=\"sitebit comhead\"> (<a href=\"from?site=netherlandsnewslive.com\"><span class=\"sitestr\">netherlandsnewslive.com</span></a>)</span></td></tr>"
      ]
     },
     "execution_count": 7,
     "metadata": {},
     "output_type": "execute_result"
    }
   ],
   "source": [
    "# Find all articles\n",
    "summaries = soup.find_all(\"tr\", class_=\"athing\")\n",
    "summaries[0]"
   ]
  },
  {
   "cell_type": "code",
   "execution_count": 8,
   "metadata": {},
   "outputs": [
    {
     "data": {
      "text/plain": [
       "'Lou Ottens, inventor of cassette tape, has died'"
      ]
     },
     "execution_count": 8,
     "metadata": {},
     "output_type": "execute_result"
    }
   ],
   "source": [
    "# Extract title\n",
    "summaries[0].find(\"a\", class_=\"storylink\").get_text().strip()"
   ]
  },
  {
   "cell_type": "code",
   "execution_count": 9,
   "metadata": {},
   "outputs": [
    {
     "name": "stdout",
     "output_type": "stream",
     "text": [
      "30 Article summaries found. Sample:\n",
      "Lou Ottens, inventor of cassette tape, has died\n"
     ]
    }
   ],
   "source": [
    "# Find all articles, extract titles\n",
    "articles = []\n",
    "summaries = soup.find_all(\"tr\", class_=\"athing\")\n",
    "for summary in summaries:\n",
    "    title = summary.find(\"a\", class_=\"storylink\").get_text().strip()\n",
    "    articles.append((title))\n",
    "\n",
    "print(len(articles), \"Article summaries found. Sample:\")\n",
    "print(articles[0])"
   ]
  },
  {
   "cell_type": "markdown",
   "metadata": {
    "collapsed": true
   },
   "source": [
    "## Normalization"
   ]
  },
  {
   "cell_type": "markdown",
   "metadata": {},
   "source": [
    "### Case Normalization"
   ]
  },
  {
   "cell_type": "code",
   "execution_count": 10,
   "metadata": {},
   "outputs": [
    {
     "name": "stdout",
     "output_type": "stream",
     "text": [
      "The first time you see The Second Renaissance it may look boring. Look at it at least twice and definitely watch part 2. It will change your view of the matrix. Are the human people the ones who started the war ? Is AI a bad thing ?\n"
     ]
    }
   ],
   "source": [
    "# Sample text\n",
    "text = \"The first time you see The Second Renaissance it may look boring. Look at it at least twice and definitely watch part 2. It will change your view of the matrix. Are the human people the ones who started the war ? Is AI a bad thing ?\"\n",
    "print(text)"
   ]
  },
  {
   "cell_type": "code",
   "execution_count": 11,
   "metadata": {},
   "outputs": [
    {
     "name": "stdout",
     "output_type": "stream",
     "text": [
      "the first time you see the second renaissance it may look boring. look at it at least twice and definitely watch part 2. it will change your view of the matrix. are the human people the ones who started the war ? is ai a bad thing ?\n"
     ]
    }
   ],
   "source": [
    "# Convert to lowercase\n",
    "text = text.lower() \n",
    "print(text)"
   ]
  },
  {
   "cell_type": "markdown",
   "metadata": {},
   "source": [
    "### Punctuation Removal"
   ]
  },
  {
   "cell_type": "code",
   "execution_count": 12,
   "metadata": {},
   "outputs": [
    {
     "name": "stdout",
     "output_type": "stream",
     "text": [
      "the first time you see the second renaissance it may look boring  look at it at least twice and definitely watch part 2  it will change your view of the matrix  are the human people the ones who started the war   is ai a bad thing  \n"
     ]
    }
   ],
   "source": [
    "import re\n",
    "\n",
    "# Remove punctuation characters\n",
    "text = re.sub(r\"[^a-zA-Z0-9]\", \" \", text) \n",
    "print(text)"
   ]
  },
  {
   "cell_type": "markdown",
   "metadata": {},
   "source": [
    "## Tokenization"
   ]
  },
  {
   "cell_type": "code",
   "execution_count": 13,
   "metadata": {},
   "outputs": [
    {
     "name": "stdout",
     "output_type": "stream",
     "text": [
      "['the', 'first', 'time', 'you', 'see', 'the', 'second', 'renaissance', 'it', 'may', 'look', 'boring', 'look', 'at', 'it', 'at', 'least', 'twice', 'and', 'definitely', 'watch', 'part', '2', 'it', 'will', 'change', 'your', 'view', 'of', 'the', 'matrix', 'are', 'the', 'human', 'people', 'the', 'ones', 'who', 'started', 'the', 'war', 'is', 'ai', 'a', 'bad', 'thing']\n"
     ]
    }
   ],
   "source": [
    "# Split text into tokens (words)\n",
    "words = text.split()\n",
    "print(words)"
   ]
  },
  {
   "cell_type": "markdown",
   "metadata": {},
   "source": [
    "### NLTK: Natural Language ToolKit"
   ]
  },
  {
   "cell_type": "code",
   "execution_count": 14,
   "metadata": {},
   "outputs": [],
   "source": [
    "import os\n",
    "import nltk\n",
    "nltk.data.path.append(os.path.join(os.getcwd(), \"nltk_data\"))"
   ]
  },
  {
   "cell_type": "code",
   "execution_count": 15,
   "metadata": {},
   "outputs": [
    {
     "name": "stdout",
     "output_type": "stream",
     "text": [
      "Dr. Smith graduated from the University of Washington. He later started an analytics firm called Lux, which catered to enterprise customers.\n"
     ]
    }
   ],
   "source": [
    "# Another sample text\n",
    "text = \"Dr. Smith graduated from the University of Washington. He later started an analytics firm called Lux, which catered to enterprise customers.\"\n",
    "print(text)"
   ]
  },
  {
   "cell_type": "code",
   "execution_count": 16,
   "metadata": {},
   "outputs": [
    {
     "name": "stdout",
     "output_type": "stream",
     "text": [
      "['Dr.', 'Smith', 'graduated', 'from', 'the', 'University', 'of', 'Washington', '.', 'He', 'later', 'started', 'an', 'analytics', 'firm', 'called', 'Lux', ',', 'which', 'catered', 'to', 'enterprise', 'customers', '.']\n"
     ]
    }
   ],
   "source": [
    "from nltk.tokenize import word_tokenize\n",
    "\n",
    "# Split text into words using NLTK\n",
    "words = word_tokenize(text)\n",
    "print(words)"
   ]
  },
  {
   "cell_type": "code",
   "execution_count": 17,
   "metadata": {},
   "outputs": [
    {
     "name": "stdout",
     "output_type": "stream",
     "text": [
      "['Dr. Smith graduated from the University of Washington.', 'He later started an analytics firm called Lux, which catered to enterprise customers.']\n"
     ]
    }
   ],
   "source": [
    "from nltk.tokenize import sent_tokenize\n",
    "\n",
    "# Split text into sentences\n",
    "sentences = sent_tokenize(text)\n",
    "print(sentences)"
   ]
  },
  {
   "cell_type": "code",
   "execution_count": 18,
   "metadata": {},
   "outputs": [
    {
     "name": "stdout",
     "output_type": "stream",
     "text": [
      "['i', 'me', 'my', 'myself', 'we', 'our', 'ours', 'ourselves', 'you', \"you're\", \"you've\", \"you'll\", \"you'd\", 'your', 'yours', 'yourself', 'yourselves', 'he', 'him', 'his', 'himself', 'she', \"she's\", 'her', 'hers', 'herself', 'it', \"it's\", 'its', 'itself', 'they', 'them', 'their', 'theirs', 'themselves', 'what', 'which', 'who', 'whom', 'this', 'that', \"that'll\", 'these', 'those', 'am', 'is', 'are', 'was', 'were', 'be', 'been', 'being', 'have', 'has', 'had', 'having', 'do', 'does', 'did', 'doing', 'a', 'an', 'the', 'and', 'but', 'if', 'or', 'because', 'as', 'until', 'while', 'of', 'at', 'by', 'for', 'with', 'about', 'against', 'between', 'into', 'through', 'during', 'before', 'after', 'above', 'below', 'to', 'from', 'up', 'down', 'in', 'out', 'on', 'off', 'over', 'under', 'again', 'further', 'then', 'once', 'here', 'there', 'when', 'where', 'why', 'how', 'all', 'any', 'both', 'each', 'few', 'more', 'most', 'other', 'some', 'such', 'no', 'nor', 'not', 'only', 'own', 'same', 'so', 'than', 'too', 'very', 's', 't', 'can', 'will', 'just', 'don', \"don't\", 'should', \"should've\", 'now', 'd', 'll', 'm', 'o', 're', 've', 'y', 'ain', 'aren', \"aren't\", 'couldn', \"couldn't\", 'didn', \"didn't\", 'doesn', \"doesn't\", 'hadn', \"hadn't\", 'hasn', \"hasn't\", 'haven', \"haven't\", 'isn', \"isn't\", 'ma', 'mightn', \"mightn't\", 'mustn', \"mustn't\", 'needn', \"needn't\", 'shan', \"shan't\", 'shouldn', \"shouldn't\", 'wasn', \"wasn't\", 'weren', \"weren't\", 'won', \"won't\", 'wouldn', \"wouldn't\"]\n"
     ]
    }
   ],
   "source": [
    "# List stop words\n",
    "from nltk.corpus import stopwords\n",
    "print(stopwords.words(\"english\"))"
   ]
  },
  {
   "cell_type": "code",
   "execution_count": 19,
   "metadata": {},
   "outputs": [
    {
     "name": "stdout",
     "output_type": "stream",
     "text": [
      "['the', 'first', 'time', 'you', 'see', 'the', 'second', 'renaissance', 'it', 'may', 'look', 'boring', 'look', 'at', 'it', 'at', 'least', 'twice', 'and', 'definitely', 'watch', 'part', '2', 'it', 'will', 'change', 'your', 'view', 'of', 'the', 'matrix', 'are', 'the', 'human', 'people', 'the', 'ones', 'who', 'started', 'the', 'war', 'is', 'ai', 'a', 'bad', 'thing']\n"
     ]
    }
   ],
   "source": [
    "# Reset text\n",
    "text = \"The first time you see The Second Renaissance it may look boring. Look at it at least twice and definitely watch part 2. It will change your view of the matrix. Are the human people the ones who started the war ? Is AI a bad thing ?\"\n",
    "\n",
    "# Normalize it\n",
    "text = re.sub(r\"[^a-zA-Z0-9]\", \" \", text.lower())\n",
    "\n",
    "# Tokenize it\n",
    "words = text.split()\n",
    "print(words)"
   ]
  },
  {
   "cell_type": "code",
   "execution_count": 20,
   "metadata": {},
   "outputs": [
    {
     "name": "stdout",
     "output_type": "stream",
     "text": [
      "['first', 'time', 'see', 'second', 'renaissance', 'may', 'look', 'boring', 'look', 'least', 'twice', 'definitely', 'watch', 'part', '2', 'change', 'view', 'matrix', 'human', 'people', 'ones', 'started', 'war', 'ai', 'bad', 'thing']\n"
     ]
    }
   ],
   "source": [
    "# Remove stop words\n",
    "words = [w for w in words if w not in stopwords.words(\"english\")]\n",
    "print(words)"
   ]
  },
  {
   "cell_type": "markdown",
   "metadata": {},
   "source": [
    "### Sentence Parsing"
   ]
  },
  {
   "cell_type": "code",
   "execution_count": 21,
   "metadata": {},
   "outputs": [
    {
     "name": "stdout",
     "output_type": "stream",
     "text": [
      "(S\n",
      "  (NP I)\n",
      "  (VP\n",
      "    (VP (V shot) (NP (Det an) (N elephant)))\n",
      "    (PP (P in) (NP (Det my) (N pajamas)))))\n",
      "(S\n",
      "  (NP I)\n",
      "  (VP\n",
      "    (V shot)\n",
      "    (NP (Det an) (N elephant) (PP (P in) (NP (Det my) (N pajamas))))))\n"
     ]
    }
   ],
   "source": [
    "import nltk\n",
    "\n",
    "# Define a custom grammar\n",
    "my_grammar = nltk.CFG.fromstring(\"\"\"\n",
    "S -> NP VP\n",
    "PP -> P NP\n",
    "NP -> Det N | Det N PP | 'I'\n",
    "VP -> V NP | VP PP\n",
    "Det -> 'an' | 'my'\n",
    "N -> 'elephant' | 'pajamas'\n",
    "V -> 'shot'\n",
    "P -> 'in'\n",
    "\"\"\")\n",
    "parser = nltk.ChartParser(my_grammar)\n",
    "\n",
    "# Parse a sentence\n",
    "sentence = word_tokenize(\"I shot an elephant in my pajamas\")\n",
    "for tree in parser.parse(sentence):\n",
    "    print(tree)"
   ]
  },
  {
   "cell_type": "markdown",
   "metadata": {},
   "source": [
    "## Stemming & Lemmatization\n",
    "\n",
    "### Stemming"
   ]
  },
  {
   "cell_type": "code",
   "execution_count": 22,
   "metadata": {},
   "outputs": [
    {
     "name": "stdout",
     "output_type": "stream",
     "text": [
      "['first', 'time', 'see', 'second', 'renaiss', 'may', 'look', 'bore', 'look', 'least', 'twice', 'definit', 'watch', 'part', '2', 'chang', 'view', 'matrix', 'human', 'peopl', 'one', 'start', 'war', 'ai', 'bad', 'thing']\n"
     ]
    }
   ],
   "source": [
    "from nltk.stem.porter import PorterStemmer\n",
    "\n",
    "# Reduce words to their stems\n",
    "stemmed = [PorterStemmer().stem(w) for w in words]\n",
    "print(stemmed)"
   ]
  },
  {
   "cell_type": "markdown",
   "metadata": {},
   "source": [
    "### Lemmatization"
   ]
  },
  {
   "cell_type": "code",
   "execution_count": 23,
   "metadata": {},
   "outputs": [
    {
     "name": "stdout",
     "output_type": "stream",
     "text": [
      "['first', 'time', 'see', 'second', 'renaissance', 'may', 'look', 'boring', 'look', 'least', 'twice', 'definitely', 'watch', 'part', '2', 'change', 'view', 'matrix', 'human', 'people', 'one', 'started', 'war', 'ai', 'bad', 'thing']\n"
     ]
    }
   ],
   "source": [
    "from nltk.stem.wordnet import WordNetLemmatizer\n",
    "\n",
    "# Reduce words to their root form\n",
    "lemmed = [WordNetLemmatizer().lemmatize(w) for w in words]\n",
    "print(lemmed)"
   ]
  },
  {
   "cell_type": "code",
   "execution_count": 24,
   "metadata": {},
   "outputs": [
    {
     "name": "stdout",
     "output_type": "stream",
     "text": [
      "['first', 'time', 'see', 'second', 'renaissance', 'may', 'look', 'bore', 'look', 'least', 'twice', 'definitely', 'watch', 'part', '2', 'change', 'view', 'matrix', 'human', 'people', 'one', 'start', 'war', 'ai', 'bad', 'thing']\n"
     ]
    }
   ],
   "source": [
    "# Lemmatize verbs by specifying pos\n",
    "lemmed = [WordNetLemmatizer().lemmatize(w, pos='v') for w in lemmed]\n",
    "print(lemmed)"
   ]
  },
  {
   "cell_type": "code",
   "execution_count": null,
   "metadata": {},
   "outputs": [],
   "source": []
  }
 ],
 "metadata": {
  "kernelspec": {
   "display_name": "Python 3",
   "language": "python",
   "name": "python3"
  },
  "language_info": {
   "codemirror_mode": {
    "name": "ipython",
    "version": 3
   },
   "file_extension": ".py",
   "mimetype": "text/x-python",
   "name": "python",
   "nbconvert_exporter": "python",
   "pygments_lexer": "ipython3",
   "version": "3.6.3"
  }
 },
 "nbformat": 4,
 "nbformat_minor": 2
}
